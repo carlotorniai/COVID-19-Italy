{
 "cells": [
  {
   "cell_type": "markdown",
   "metadata": {},
   "source": [
    "### This notebooks processes the source file "
   ]
  },
  {
   "cell_type": "code",
   "execution_count": 1,
   "metadata": {},
   "outputs": [],
   "source": [
    "import numpy as np\n",
    "import pandas as pd\n",
    "pd.set_option('display.max_rows', 500)\n",
    "pd.set_option('display.max_columns', 500)\n",
    "pd.set_option('display.width', 1000)\n",
    "from pandas import ExcelWriter\n",
    "from pandas import ExcelFile\n",
    "import seaborn as sns\n",
    "sns.set()\n",
    "import matplotlib.pyplot as plt\n",
    "%matplotlib inline  "
   ]
  },
  {
   "cell_type": "code",
   "execution_count": 2,
   "metadata": {},
   "outputs": [],
   "source": [
    "#I want to generate single csv files for each region"
   ]
  },
  {
   "cell_type": "code",
   "execution_count": 3,
   "metadata": {},
   "outputs": [],
   "source": [
    "# Reading the excel file\n",
    "# TO DO: download form googel sheets\n",
    "df_iter = pd.read_excel('../data/covid-19_IT.xlsx', sheet_name=None)"
   ]
  },
  {
   "cell_type": "code",
   "execution_count": 4,
   "metadata": {},
   "outputs": [],
   "source": [
    "\n",
    "#columns_summary = df_iter[list(df_iter.keys())[0]].columns"
   ]
  },
  {
   "cell_type": "code",
   "execution_count": 5,
   "metadata": {},
   "outputs": [],
   "source": [
    "# Retrieve each dataframe, save the csv and collect the \n",
    "# total row to create a summary file\n",
    "total_rows=[]\n",
    "for key in df_iter.keys():\n",
    "    df_iter[key].to_csv('../data/csv/'+key+'.csv')\n",
    "    # Here populating the summary DF\n",
    "    row = df_iter[key][df_iter[key]['Regione']=='Somma Totale']\n",
    "    total_rows.append(row)"
   ]
  },
  {
   "cell_type": "code",
   "execution_count": 6,
   "metadata": {},
   "outputs": [],
   "source": [
    "summary = pd.concat(total_rows)"
   ]
  },
  {
   "cell_type": "code",
   "execution_count": 7,
   "metadata": {},
   "outputs": [],
   "source": [
    "summary = summary.set_index(pd.Index(df_iter.keys()))"
   ]
  },
  {
   "cell_type": "code",
   "execution_count": 8,
   "metadata": {},
   "outputs": [],
   "source": [
    "summary = summary.drop(['Regione'], axis=1)"
   ]
  },
  {
   "cell_type": "code",
   "execution_count": 9,
   "metadata": {},
   "outputs": [],
   "source": [
    "with ExcelWriter('../data/generated_summary.xlsx') as writer:\n",
    "    summary.to_excel(writer)"
   ]
  },
  {
   "cell_type": "code",
   "execution_count": 12,
   "metadata": {},
   "outputs": [
    {
     "data": {
      "text/html": [
       "<div>\n",
       "<style scoped>\n",
       "    .dataframe tbody tr th:only-of-type {\n",
       "        vertical-align: middle;\n",
       "    }\n",
       "\n",
       "    .dataframe tbody tr th {\n",
       "        vertical-align: top;\n",
       "    }\n",
       "\n",
       "    .dataframe thead th {\n",
       "        text-align: right;\n",
       "    }\n",
       "</style>\n",
       "<table border=\"1\" class=\"dataframe\">\n",
       "  <thead>\n",
       "    <tr style=\"text-align: right;\">\n",
       "      <th></th>\n",
       "      <th>Ricoverati con sintomi</th>\n",
       "      <th>Terapia Intensiva</th>\n",
       "      <th>Isolamento Domiciliare</th>\n",
       "      <th>Totale</th>\n",
       "      <th>Dimessi Guariti</th>\n",
       "      <th>Deceduti</th>\n",
       "      <th>Totale Positivi</th>\n",
       "      <th>Tamponi</th>\n",
       "    </tr>\n",
       "  </thead>\n",
       "  <tbody>\n",
       "    <tr>\n",
       "      <td>23.02</td>\n",
       "      <td>54.0</td>\n",
       "      <td>26.0</td>\n",
       "      <td>22.0</td>\n",
       "      <td>129.0</td>\n",
       "      <td>1.0</td>\n",
       "      <td>2.0</td>\n",
       "      <td>0.0</td>\n",
       "      <td>3000.0</td>\n",
       "    </tr>\n",
       "    <tr>\n",
       "      <td>24.02</td>\n",
       "      <td>101.0</td>\n",
       "      <td>27.0</td>\n",
       "      <td>94.0</td>\n",
       "      <td>229.0</td>\n",
       "      <td>1.0</td>\n",
       "      <td>6.0</td>\n",
       "      <td>0.0</td>\n",
       "      <td>0.0</td>\n",
       "    </tr>\n",
       "    <tr>\n",
       "      <td>25.02</td>\n",
       "      <td>114.0</td>\n",
       "      <td>35.0</td>\n",
       "      <td>162.0</td>\n",
       "      <td>322.0</td>\n",
       "      <td>1.0</td>\n",
       "      <td>10.0</td>\n",
       "      <td>0.0</td>\n",
       "      <td>0.0</td>\n",
       "    </tr>\n",
       "    <tr>\n",
       "      <td>26.02</td>\n",
       "      <td>128.0</td>\n",
       "      <td>36.0</td>\n",
       "      <td>221.0</td>\n",
       "      <td>400.0</td>\n",
       "      <td>3.0</td>\n",
       "      <td>12.0</td>\n",
       "      <td>0.0</td>\n",
       "      <td>0.0</td>\n",
       "    </tr>\n",
       "    <tr>\n",
       "      <td>27.02</td>\n",
       "      <td>248.0</td>\n",
       "      <td>56.0</td>\n",
       "      <td>284.0</td>\n",
       "      <td>650.0</td>\n",
       "      <td>45.0</td>\n",
       "      <td>17.0</td>\n",
       "      <td>0.0</td>\n",
       "      <td>0.0</td>\n",
       "    </tr>\n",
       "    <tr>\n",
       "      <td>28.02</td>\n",
       "      <td>345.0</td>\n",
       "      <td>64.0</td>\n",
       "      <td>412.0</td>\n",
       "      <td>821.0</td>\n",
       "      <td>46.0</td>\n",
       "      <td>21.0</td>\n",
       "      <td>888.0</td>\n",
       "      <td>15695.0</td>\n",
       "    </tr>\n",
       "    <tr>\n",
       "      <td>29.02</td>\n",
       "      <td>401.0</td>\n",
       "      <td>105.0</td>\n",
       "      <td>543.0</td>\n",
       "      <td>1049.0</td>\n",
       "      <td>50.0</td>\n",
       "      <td>29.0</td>\n",
       "      <td>1128.0</td>\n",
       "      <td>18661.0</td>\n",
       "    </tr>\n",
       "    <tr>\n",
       "      <td>1.03</td>\n",
       "      <td>639.0</td>\n",
       "      <td>140.0</td>\n",
       "      <td>798.0</td>\n",
       "      <td>1577.0</td>\n",
       "      <td>83.0</td>\n",
       "      <td>34.0</td>\n",
       "      <td>1694.0</td>\n",
       "      <td>21127.0</td>\n",
       "    </tr>\n",
       "  </tbody>\n",
       "</table>\n",
       "</div>"
      ],
      "text/plain": [
       "       Ricoverati con sintomi  Terapia Intensiva  Isolamento Domiciliare  Totale  Dimessi Guariti  Deceduti  Totale Positivi  Tamponi\n",
       "23.02                    54.0               26.0                    22.0   129.0              1.0       2.0              0.0   3000.0\n",
       "24.02                   101.0               27.0                    94.0   229.0              1.0       6.0              0.0      0.0\n",
       "25.02                   114.0               35.0                   162.0   322.0              1.0      10.0              0.0      0.0\n",
       "26.02                   128.0               36.0                   221.0   400.0              3.0      12.0              0.0      0.0\n",
       "27.02                   248.0               56.0                   284.0   650.0             45.0      17.0              0.0      0.0\n",
       "28.02                   345.0               64.0                   412.0   821.0             46.0      21.0            888.0  15695.0\n",
       "29.02                   401.0              105.0                   543.0  1049.0             50.0      29.0           1128.0  18661.0\n",
       "1.03                    639.0              140.0                   798.0  1577.0             83.0      34.0           1694.0  21127.0"
      ]
     },
     "execution_count": 12,
     "metadata": {},
     "output_type": "execute_result"
    }
   ],
   "source": [
    "summary"
   ]
  },
  {
   "cell_type": "code",
   "execution_count": 14,
   "metadata": {},
   "outputs": [],
   "source": [
    "# Removing columns to perform percenage change\n",
    "filtered = summary.drop(['Tamponi'], axis=1)"
   ]
  },
  {
   "cell_type": "code",
   "execution_count": 15,
   "metadata": {},
   "outputs": [],
   "source": [
    "percentage = filtered.pct_change()"
   ]
  },
  {
   "cell_type": "code",
   "execution_count": 16,
   "metadata": {},
   "outputs": [
    {
     "data": {
      "text/html": [
       "<div>\n",
       "<style scoped>\n",
       "    .dataframe tbody tr th:only-of-type {\n",
       "        vertical-align: middle;\n",
       "    }\n",
       "\n",
       "    .dataframe tbody tr th {\n",
       "        vertical-align: top;\n",
       "    }\n",
       "\n",
       "    .dataframe thead th {\n",
       "        text-align: right;\n",
       "    }\n",
       "</style>\n",
       "<table border=\"1\" class=\"dataframe\">\n",
       "  <thead>\n",
       "    <tr style=\"text-align: right;\">\n",
       "      <th></th>\n",
       "      <th>Ricoverati con sintomi</th>\n",
       "      <th>Terapia Intensiva</th>\n",
       "      <th>Isolamento Domiciliare</th>\n",
       "      <th>Totale</th>\n",
       "      <th>Dimessi Guariti</th>\n",
       "      <th>Deceduti</th>\n",
       "      <th>Totale Positivi</th>\n",
       "    </tr>\n",
       "  </thead>\n",
       "  <tbody>\n",
       "    <tr>\n",
       "      <td>23.02</td>\n",
       "      <td>NaN</td>\n",
       "      <td>NaN</td>\n",
       "      <td>NaN</td>\n",
       "      <td>NaN</td>\n",
       "      <td>NaN</td>\n",
       "      <td>NaN</td>\n",
       "      <td>NaN</td>\n",
       "    </tr>\n",
       "    <tr>\n",
       "      <td>24.02</td>\n",
       "      <td>0.870370</td>\n",
       "      <td>0.038462</td>\n",
       "      <td>3.272727</td>\n",
       "      <td>0.775194</td>\n",
       "      <td>0.000000</td>\n",
       "      <td>2.000000</td>\n",
       "      <td>NaN</td>\n",
       "    </tr>\n",
       "    <tr>\n",
       "      <td>25.02</td>\n",
       "      <td>0.128713</td>\n",
       "      <td>0.296296</td>\n",
       "      <td>0.723404</td>\n",
       "      <td>0.406114</td>\n",
       "      <td>0.000000</td>\n",
       "      <td>0.666667</td>\n",
       "      <td>NaN</td>\n",
       "    </tr>\n",
       "    <tr>\n",
       "      <td>26.02</td>\n",
       "      <td>0.122807</td>\n",
       "      <td>0.028571</td>\n",
       "      <td>0.364198</td>\n",
       "      <td>0.242236</td>\n",
       "      <td>2.000000</td>\n",
       "      <td>0.200000</td>\n",
       "      <td>NaN</td>\n",
       "    </tr>\n",
       "    <tr>\n",
       "      <td>27.02</td>\n",
       "      <td>0.937500</td>\n",
       "      <td>0.555556</td>\n",
       "      <td>0.285068</td>\n",
       "      <td>0.625000</td>\n",
       "      <td>14.000000</td>\n",
       "      <td>0.416667</td>\n",
       "      <td>NaN</td>\n",
       "    </tr>\n",
       "    <tr>\n",
       "      <td>28.02</td>\n",
       "      <td>0.391129</td>\n",
       "      <td>0.142857</td>\n",
       "      <td>0.450704</td>\n",
       "      <td>0.263077</td>\n",
       "      <td>0.022222</td>\n",
       "      <td>0.235294</td>\n",
       "      <td>inf</td>\n",
       "    </tr>\n",
       "    <tr>\n",
       "      <td>29.02</td>\n",
       "      <td>0.162319</td>\n",
       "      <td>0.640625</td>\n",
       "      <td>0.317961</td>\n",
       "      <td>0.277710</td>\n",
       "      <td>0.086957</td>\n",
       "      <td>0.380952</td>\n",
       "      <td>0.270270</td>\n",
       "    </tr>\n",
       "    <tr>\n",
       "      <td>1.03</td>\n",
       "      <td>0.593516</td>\n",
       "      <td>0.333333</td>\n",
       "      <td>0.469613</td>\n",
       "      <td>0.503337</td>\n",
       "      <td>0.660000</td>\n",
       "      <td>0.172414</td>\n",
       "      <td>0.501773</td>\n",
       "    </tr>\n",
       "  </tbody>\n",
       "</table>\n",
       "</div>"
      ],
      "text/plain": [
       "       Ricoverati con sintomi  Terapia Intensiva  Isolamento Domiciliare    Totale  Dimessi Guariti  Deceduti  Totale Positivi\n",
       "23.02                     NaN                NaN                     NaN       NaN              NaN       NaN              NaN\n",
       "24.02                0.870370           0.038462                3.272727  0.775194         0.000000  2.000000              NaN\n",
       "25.02                0.128713           0.296296                0.723404  0.406114         0.000000  0.666667              NaN\n",
       "26.02                0.122807           0.028571                0.364198  0.242236         2.000000  0.200000              NaN\n",
       "27.02                0.937500           0.555556                0.285068  0.625000        14.000000  0.416667              NaN\n",
       "28.02                0.391129           0.142857                0.450704  0.263077         0.022222  0.235294              inf\n",
       "29.02                0.162319           0.640625                0.317961  0.277710         0.086957  0.380952         0.270270\n",
       "1.03                 0.593516           0.333333                0.469613  0.503337         0.660000  0.172414         0.501773"
      ]
     },
     "execution_count": 16,
     "metadata": {},
     "output_type": "execute_result"
    }
   ],
   "source": [
    "percentage"
   ]
  },
  {
   "cell_type": "code",
   "execution_count": 18,
   "metadata": {},
   "outputs": [],
   "source": [
    "data_clean = summary.drop(['Totale','Tamponi'], axis = 1)"
   ]
  },
  {
   "cell_type": "code",
   "execution_count": 19,
   "metadata": {},
   "outputs": [
    {
     "data": {
      "text/html": [
       "<div>\n",
       "<style scoped>\n",
       "    .dataframe tbody tr th:only-of-type {\n",
       "        vertical-align: middle;\n",
       "    }\n",
       "\n",
       "    .dataframe tbody tr th {\n",
       "        vertical-align: top;\n",
       "    }\n",
       "\n",
       "    .dataframe thead th {\n",
       "        text-align: right;\n",
       "    }\n",
       "</style>\n",
       "<table border=\"1\" class=\"dataframe\">\n",
       "  <thead>\n",
       "    <tr style=\"text-align: right;\">\n",
       "      <th></th>\n",
       "      <th>Ricoverati con sintomi</th>\n",
       "      <th>Terapia Intensiva</th>\n",
       "      <th>Isolamento Domiciliare</th>\n",
       "      <th>Dimessi Guariti</th>\n",
       "      <th>Deceduti</th>\n",
       "      <th>Totale Positivi</th>\n",
       "    </tr>\n",
       "  </thead>\n",
       "  <tbody>\n",
       "    <tr>\n",
       "      <td>23.02</td>\n",
       "      <td>54.0</td>\n",
       "      <td>26.0</td>\n",
       "      <td>22.0</td>\n",
       "      <td>1.0</td>\n",
       "      <td>2.0</td>\n",
       "      <td>0.0</td>\n",
       "    </tr>\n",
       "    <tr>\n",
       "      <td>24.02</td>\n",
       "      <td>101.0</td>\n",
       "      <td>27.0</td>\n",
       "      <td>94.0</td>\n",
       "      <td>1.0</td>\n",
       "      <td>6.0</td>\n",
       "      <td>0.0</td>\n",
       "    </tr>\n",
       "    <tr>\n",
       "      <td>25.02</td>\n",
       "      <td>114.0</td>\n",
       "      <td>35.0</td>\n",
       "      <td>162.0</td>\n",
       "      <td>1.0</td>\n",
       "      <td>10.0</td>\n",
       "      <td>0.0</td>\n",
       "    </tr>\n",
       "    <tr>\n",
       "      <td>26.02</td>\n",
       "      <td>128.0</td>\n",
       "      <td>36.0</td>\n",
       "      <td>221.0</td>\n",
       "      <td>3.0</td>\n",
       "      <td>12.0</td>\n",
       "      <td>0.0</td>\n",
       "    </tr>\n",
       "    <tr>\n",
       "      <td>27.02</td>\n",
       "      <td>248.0</td>\n",
       "      <td>56.0</td>\n",
       "      <td>284.0</td>\n",
       "      <td>45.0</td>\n",
       "      <td>17.0</td>\n",
       "      <td>0.0</td>\n",
       "    </tr>\n",
       "    <tr>\n",
       "      <td>28.02</td>\n",
       "      <td>345.0</td>\n",
       "      <td>64.0</td>\n",
       "      <td>412.0</td>\n",
       "      <td>46.0</td>\n",
       "      <td>21.0</td>\n",
       "      <td>888.0</td>\n",
       "    </tr>\n",
       "    <tr>\n",
       "      <td>29.02</td>\n",
       "      <td>401.0</td>\n",
       "      <td>105.0</td>\n",
       "      <td>543.0</td>\n",
       "      <td>50.0</td>\n",
       "      <td>29.0</td>\n",
       "      <td>1128.0</td>\n",
       "    </tr>\n",
       "    <tr>\n",
       "      <td>1.03</td>\n",
       "      <td>639.0</td>\n",
       "      <td>140.0</td>\n",
       "      <td>798.0</td>\n",
       "      <td>83.0</td>\n",
       "      <td>34.0</td>\n",
       "      <td>1694.0</td>\n",
       "    </tr>\n",
       "  </tbody>\n",
       "</table>\n",
       "</div>"
      ],
      "text/plain": [
       "       Ricoverati con sintomi  Terapia Intensiva  Isolamento Domiciliare  Dimessi Guariti  Deceduti  Totale Positivi\n",
       "23.02                    54.0               26.0                    22.0              1.0       2.0              0.0\n",
       "24.02                   101.0               27.0                    94.0              1.0       6.0              0.0\n",
       "25.02                   114.0               35.0                   162.0              1.0      10.0              0.0\n",
       "26.02                   128.0               36.0                   221.0              3.0      12.0              0.0\n",
       "27.02                   248.0               56.0                   284.0             45.0      17.0              0.0\n",
       "28.02                   345.0               64.0                   412.0             46.0      21.0            888.0\n",
       "29.02                   401.0              105.0                   543.0             50.0      29.0           1128.0\n",
       "1.03                    639.0              140.0                   798.0             83.0      34.0           1694.0"
      ]
     },
     "execution_count": 19,
     "metadata": {},
     "output_type": "execute_result"
    }
   ],
   "source": [
    "data_clean"
   ]
  },
  {
   "cell_type": "code",
   "execution_count": 20,
   "metadata": {},
   "outputs": [
    {
     "data": {
      "text/plain": [
       "<matplotlib.axes._subplots.AxesSubplot at 0x1a1d5a1c50>"
      ]
     },
     "execution_count": 20,
     "metadata": {},
     "output_type": "execute_result"
    },
    {
     "data": {
      "image/png": "[encoded data removed]",
      "text/plain": [
       "<Figure size 432x288 with 1 Axes>"
      ]
     },
     "metadata": {
      "needs_background": "light"
     },
     "output_type": "display_data"
    }
   ],
   "source": [
    "data_clean.plot()"
   ]
  },
  {
   "cell_type": "code",
   "execution_count": null,
   "metadata": {},
   "outputs": [],
   "source": []
  },
  {
   "cell_type": "code",
   "execution_count": null,
   "metadata": {},
   "outputs": [],
   "source": []
  }
 ],
 "metadata": {
  "kernelspec": {
   "display_name": "Python 3",
   "language": "python",
   "name": "python3"
  },
  "language_info": {
   "codemirror_mode": {
    "name": "ipython",
    "version": 3
   },
   "file_extension": ".py",
   "mimetype": "text/x-python",
   "name": "python",
   "nbconvert_exporter": "python",
   "pygments_lexer": "ipython3",
   "version": "3.7.4"
  }
 },
 "nbformat": 4,
 "nbformat_minor": 2
}
