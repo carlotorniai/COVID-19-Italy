{
 "cells": [
  {
   "cell_type": "markdown",
   "metadata": {},
   "source": [
    "### This notebooks processes the source file "
   ]
  },
  {
   "cell_type": "code",
   "execution_count": 1,
   "metadata": {},
   "outputs": [],
   "source": [
    "import numpy as np\n",
    "import pandas as pd\n",
    "pd.set_option('display.max_rows', 500)\n",
    "pd.set_option('display.max_columns', 500)\n",
    "pd.set_option('display.width', 1000)\n",
    "from pandas import ExcelWriter\n",
    "from pandas import ExcelFile\n",
    "import seaborn as sns\n",
    "import datetime\n",
    "sns.set()\n",
    "import matplotlib.pyplot as plt\n",
    "%matplotlib inline  "
   ]
  },
  {
   "cell_type": "code",
   "execution_count": 2,
   "metadata": {},
   "outputs": [],
   "source": [
    "#I want to generate single csv files for each region"
   ]
  },
  {
   "cell_type": "code",
   "execution_count": 3,
   "metadata": {},
   "outputs": [],
   "source": [
    "# Reading the excel file\n",
    "# TO DO: download form googel sheets\n",
    "df_iter = pd.read_excel('../data/covid-19_IT.xlsx', sheet_name=None)"
   ]
  },
  {
   "cell_type": "code",
   "execution_count": 4,
   "metadata": {},
   "outputs": [],
   "source": [
    "\n",
    "#columns_summary = df_iter[list(df_iter.keys())[0]].columns"
   ]
  },
  {
   "cell_type": "code",
   "execution_count": 5,
   "metadata": {},
   "outputs": [],
   "source": [
    "# Retrieve each dataframe, save the csv and collect the \n",
    "# total row to create a summary file\n",
    "total_rows=[]\n",
    "for key in df_iter.keys():\n",
    "    df_iter[key].to_csv('../data/csv/'+key+'.csv')\n",
    "    # Here populating the summary DF\n",
    "    row = df_iter[key][df_iter[key]['Regione']=='Somma Totale']\n",
    "    total_rows.append(row)"
   ]
  },
  {
   "cell_type": "code",
   "execution_count": 6,
   "metadata": {},
   "outputs": [],
   "source": [
    "summary = pd.concat(total_rows)"
   ]
  },
  {
   "cell_type": "code",
   "execution_count": 7,
   "metadata": {},
   "outputs": [],
   "source": [
    "summary = summary.set_index(pd.Index(df_iter.keys()))"
   ]
  },
  {
   "cell_type": "code",
   "execution_count": 8,
   "metadata": {},
   "outputs": [],
   "source": [
    "summary = summary.drop(['Regione'], axis=1)"
   ]
  },
  {
   "cell_type": "code",
   "execution_count": 9,
   "metadata": {},
   "outputs": [],
   "source": [
    "with ExcelWriter('../data/generated_summary.xlsx') as writer:\n",
    "    summary.to_excel(writer)"
   ]
  },
  {
   "cell_type": "code",
   "execution_count": 10,
   "metadata": {},
   "outputs": [
    {
     "data": {
      "text/html": [
       "<div>\n",
       "<style scoped>\n",
       "    .dataframe tbody tr th:only-of-type {\n",
       "        vertical-align: middle;\n",
       "    }\n",
       "\n",
       "    .dataframe tbody tr th {\n",
       "        vertical-align: top;\n",
       "    }\n",
       "\n",
       "    .dataframe thead th {\n",
       "        text-align: right;\n",
       "    }\n",
       "</style>\n",
       "<table border=\"1\" class=\"dataframe\">\n",
       "  <thead>\n",
       "    <tr style=\"text-align: right;\">\n",
       "      <th></th>\n",
       "      <th>Ricoverati con sintomi</th>\n",
       "      <th>Terapia Intensiva</th>\n",
       "      <th>Isolamento Domiciliare</th>\n",
       "      <th>Totale</th>\n",
       "      <th>Dimessi Guariti</th>\n",
       "      <th>Deceduti</th>\n",
       "      <th>Totale Positivi</th>\n",
       "      <th>Tamponi</th>\n",
       "    </tr>\n",
       "  </thead>\n",
       "  <tbody>\n",
       "    <tr>\n",
       "      <td>23.02</td>\n",
       "      <td>54.0</td>\n",
       "      <td>26.0</td>\n",
       "      <td>22.0</td>\n",
       "      <td>129.0</td>\n",
       "      <td>1.0</td>\n",
       "      <td>2.0</td>\n",
       "      <td>NaN</td>\n",
       "      <td>NaN</td>\n",
       "    </tr>\n",
       "    <tr>\n",
       "      <td>24.02</td>\n",
       "      <td>101.0</td>\n",
       "      <td>27.0</td>\n",
       "      <td>94.0</td>\n",
       "      <td>229.0</td>\n",
       "      <td>1.0</td>\n",
       "      <td>6.0</td>\n",
       "      <td>NaN</td>\n",
       "      <td>NaN</td>\n",
       "    </tr>\n",
       "    <tr>\n",
       "      <td>25.02</td>\n",
       "      <td>114.0</td>\n",
       "      <td>35.0</td>\n",
       "      <td>162.0</td>\n",
       "      <td>322.0</td>\n",
       "      <td>1.0</td>\n",
       "      <td>10.0</td>\n",
       "      <td>NaN</td>\n",
       "      <td>NaN</td>\n",
       "    </tr>\n",
       "    <tr>\n",
       "      <td>26.02</td>\n",
       "      <td>128.0</td>\n",
       "      <td>36.0</td>\n",
       "      <td>221.0</td>\n",
       "      <td>400.0</td>\n",
       "      <td>3.0</td>\n",
       "      <td>12.0</td>\n",
       "      <td>NaN</td>\n",
       "      <td>NaN</td>\n",
       "    </tr>\n",
       "    <tr>\n",
       "      <td>27.02</td>\n",
       "      <td>248.0</td>\n",
       "      <td>56.0</td>\n",
       "      <td>284.0</td>\n",
       "      <td>588.0</td>\n",
       "      <td>45.0</td>\n",
       "      <td>17.0</td>\n",
       "      <td>650.0</td>\n",
       "      <td>12014.0</td>\n",
       "    </tr>\n",
       "    <tr>\n",
       "      <td>28.02</td>\n",
       "      <td>345.0</td>\n",
       "      <td>64.0</td>\n",
       "      <td>412.0</td>\n",
       "      <td>821.0</td>\n",
       "      <td>46.0</td>\n",
       "      <td>21.0</td>\n",
       "      <td>888.0</td>\n",
       "      <td>15695.0</td>\n",
       "    </tr>\n",
       "    <tr>\n",
       "      <td>29.02</td>\n",
       "      <td>401.0</td>\n",
       "      <td>105.0</td>\n",
       "      <td>543.0</td>\n",
       "      <td>1049.0</td>\n",
       "      <td>50.0</td>\n",
       "      <td>29.0</td>\n",
       "      <td>1128.0</td>\n",
       "      <td>18661.0</td>\n",
       "    </tr>\n",
       "    <tr>\n",
       "      <td>1.03</td>\n",
       "      <td>639.0</td>\n",
       "      <td>140.0</td>\n",
       "      <td>798.0</td>\n",
       "      <td>1577.0</td>\n",
       "      <td>83.0</td>\n",
       "      <td>34.0</td>\n",
       "      <td>1694.0</td>\n",
       "      <td>21127.0</td>\n",
       "    </tr>\n",
       "  </tbody>\n",
       "</table>\n",
       "</div>"
      ],
      "text/plain": [
       "       Ricoverati con sintomi  Terapia Intensiva  Isolamento Domiciliare  Totale  Dimessi Guariti  Deceduti  Totale Positivi  Tamponi\n",
       "23.02                    54.0               26.0                    22.0   129.0              1.0       2.0              NaN      NaN\n",
       "24.02                   101.0               27.0                    94.0   229.0              1.0       6.0              NaN      NaN\n",
       "25.02                   114.0               35.0                   162.0   322.0              1.0      10.0              NaN      NaN\n",
       "26.02                   128.0               36.0                   221.0   400.0              3.0      12.0              NaN      NaN\n",
       "27.02                   248.0               56.0                   284.0   588.0             45.0      17.0            650.0  12014.0\n",
       "28.02                   345.0               64.0                   412.0   821.0             46.0      21.0            888.0  15695.0\n",
       "29.02                   401.0              105.0                   543.0  1049.0             50.0      29.0           1128.0  18661.0\n",
       "1.03                    639.0              140.0                   798.0  1577.0             83.0      34.0           1694.0  21127.0"
      ]
     },
     "execution_count": 10,
     "metadata": {},
     "output_type": "execute_result"
    }
   ],
   "source": [
    "summary"
   ]
  },
  {
   "cell_type": "code",
   "execution_count": 11,
   "metadata": {},
   "outputs": [],
   "source": [
    "summary_ext = summary.copy()"
   ]
  },
  {
   "cell_type": "code",
   "execution_count": 12,
   "metadata": {},
   "outputs": [],
   "source": [
    "# Since there have been a change in the reporting I'm merging \n",
    "summary_ext['True Totale'] = summary_ext['Ricoverati con sintomi'] + \\\n",
    "summary_ext['Terapia Intensiva'] + summary_ext['Isolamento Domiciliare']+\\\n",
    "summary_ext['Dimessi Guariti']+ summary_ext['Deceduti']\n"
   ]
  },
  {
   "cell_type": "code",
   "execution_count": 13,
   "metadata": {},
   "outputs": [
    {
     "data": {
      "text/html": [
       "<div>\n",
       "<style scoped>\n",
       "    .dataframe tbody tr th:only-of-type {\n",
       "        vertical-align: middle;\n",
       "    }\n",
       "\n",
       "    .dataframe tbody tr th {\n",
       "        vertical-align: top;\n",
       "    }\n",
       "\n",
       "    .dataframe thead th {\n",
       "        text-align: right;\n",
       "    }\n",
       "</style>\n",
       "<table border=\"1\" class=\"dataframe\">\n",
       "  <thead>\n",
       "    <tr style=\"text-align: right;\">\n",
       "      <th></th>\n",
       "      <th>Ricoverati con sintomi</th>\n",
       "      <th>Terapia Intensiva</th>\n",
       "      <th>Isolamento Domiciliare</th>\n",
       "      <th>Totale</th>\n",
       "      <th>Dimessi Guariti</th>\n",
       "      <th>Deceduti</th>\n",
       "      <th>Totale Positivi</th>\n",
       "      <th>Tamponi</th>\n",
       "      <th>True Totale</th>\n",
       "    </tr>\n",
       "  </thead>\n",
       "  <tbody>\n",
       "    <tr>\n",
       "      <td>23.02</td>\n",
       "      <td>54.0</td>\n",
       "      <td>26.0</td>\n",
       "      <td>22.0</td>\n",
       "      <td>129.0</td>\n",
       "      <td>1.0</td>\n",
       "      <td>2.0</td>\n",
       "      <td>NaN</td>\n",
       "      <td>NaN</td>\n",
       "      <td>105.0</td>\n",
       "    </tr>\n",
       "    <tr>\n",
       "      <td>24.02</td>\n",
       "      <td>101.0</td>\n",
       "      <td>27.0</td>\n",
       "      <td>94.0</td>\n",
       "      <td>229.0</td>\n",
       "      <td>1.0</td>\n",
       "      <td>6.0</td>\n",
       "      <td>NaN</td>\n",
       "      <td>NaN</td>\n",
       "      <td>229.0</td>\n",
       "    </tr>\n",
       "    <tr>\n",
       "      <td>25.02</td>\n",
       "      <td>114.0</td>\n",
       "      <td>35.0</td>\n",
       "      <td>162.0</td>\n",
       "      <td>322.0</td>\n",
       "      <td>1.0</td>\n",
       "      <td>10.0</td>\n",
       "      <td>NaN</td>\n",
       "      <td>NaN</td>\n",
       "      <td>322.0</td>\n",
       "    </tr>\n",
       "    <tr>\n",
       "      <td>26.02</td>\n",
       "      <td>128.0</td>\n",
       "      <td>36.0</td>\n",
       "      <td>221.0</td>\n",
       "      <td>400.0</td>\n",
       "      <td>3.0</td>\n",
       "      <td>12.0</td>\n",
       "      <td>NaN</td>\n",
       "      <td>NaN</td>\n",
       "      <td>400.0</td>\n",
       "    </tr>\n",
       "    <tr>\n",
       "      <td>27.02</td>\n",
       "      <td>248.0</td>\n",
       "      <td>56.0</td>\n",
       "      <td>284.0</td>\n",
       "      <td>588.0</td>\n",
       "      <td>45.0</td>\n",
       "      <td>17.0</td>\n",
       "      <td>650.0</td>\n",
       "      <td>12014.0</td>\n",
       "      <td>650.0</td>\n",
       "    </tr>\n",
       "    <tr>\n",
       "      <td>28.02</td>\n",
       "      <td>345.0</td>\n",
       "      <td>64.0</td>\n",
       "      <td>412.0</td>\n",
       "      <td>821.0</td>\n",
       "      <td>46.0</td>\n",
       "      <td>21.0</td>\n",
       "      <td>888.0</td>\n",
       "      <td>15695.0</td>\n",
       "      <td>888.0</td>\n",
       "    </tr>\n",
       "    <tr>\n",
       "      <td>29.02</td>\n",
       "      <td>401.0</td>\n",
       "      <td>105.0</td>\n",
       "      <td>543.0</td>\n",
       "      <td>1049.0</td>\n",
       "      <td>50.0</td>\n",
       "      <td>29.0</td>\n",
       "      <td>1128.0</td>\n",
       "      <td>18661.0</td>\n",
       "      <td>1128.0</td>\n",
       "    </tr>\n",
       "    <tr>\n",
       "      <td>1.03</td>\n",
       "      <td>639.0</td>\n",
       "      <td>140.0</td>\n",
       "      <td>798.0</td>\n",
       "      <td>1577.0</td>\n",
       "      <td>83.0</td>\n",
       "      <td>34.0</td>\n",
       "      <td>1694.0</td>\n",
       "      <td>21127.0</td>\n",
       "      <td>1694.0</td>\n",
       "    </tr>\n",
       "  </tbody>\n",
       "</table>\n",
       "</div>"
      ],
      "text/plain": [
       "       Ricoverati con sintomi  Terapia Intensiva  Isolamento Domiciliare  Totale  Dimessi Guariti  Deceduti  Totale Positivi  Tamponi  True Totale\n",
       "23.02                    54.0               26.0                    22.0   129.0              1.0       2.0              NaN      NaN        105.0\n",
       "24.02                   101.0               27.0                    94.0   229.0              1.0       6.0              NaN      NaN        229.0\n",
       "25.02                   114.0               35.0                   162.0   322.0              1.0      10.0              NaN      NaN        322.0\n",
       "26.02                   128.0               36.0                   221.0   400.0              3.0      12.0              NaN      NaN        400.0\n",
       "27.02                   248.0               56.0                   284.0   588.0             45.0      17.0            650.0  12014.0        650.0\n",
       "28.02                   345.0               64.0                   412.0   821.0             46.0      21.0            888.0  15695.0        888.0\n",
       "29.02                   401.0              105.0                   543.0  1049.0             50.0      29.0           1128.0  18661.0       1128.0\n",
       "1.03                    639.0              140.0                   798.0  1577.0             83.0      34.0           1694.0  21127.0       1694.0"
      ]
     },
     "execution_count": 13,
     "metadata": {},
     "output_type": "execute_result"
    }
   ],
   "source": [
    "summary_ext"
   ]
  },
  {
   "cell_type": "markdown",
   "metadata": {},
   "source": [
    "###### The datapoint about the total on February 23 is bogus but I reconstructed form the  information available here http://www.salute.gov.it/portale/news/p3_2_1_1_1.jsp?lingua=italiano&menu=notizie&p=dalministero&id=4087 where numbers don't add up "
   ]
  },
  {
   "cell_type": "code",
   "execution_count": 14,
   "metadata": {},
   "outputs": [],
   "source": [
    "# Replacing the totale on 23.02 with the official 129\n",
    "summary_ext.loc['23.02']['True Totale'] = summary_ext.loc['23.02']['Totale']"
   ]
  },
  {
   "cell_type": "code",
   "execution_count": 15,
   "metadata": {},
   "outputs": [],
   "source": [
    "pct_df = summary_ext.pct_change()"
   ]
  },
  {
   "cell_type": "code",
   "execution_count": 16,
   "metadata": {},
   "outputs": [],
   "source": [
    "rounded_pct = (pct_df *100).round(2)"
   ]
  },
  {
   "cell_type": "code",
   "execution_count": 17,
   "metadata": {},
   "outputs": [],
   "source": [
    "step = rounded_pct.drop(['Totale', 'Totale Positivi'], axis = 1)\n",
    "final_pct = step.rename(columns={\"True Totale\": \"Totale Positivi\"})\n"
   ]
  },
  {
   "cell_type": "markdown",
   "metadata": {},
   "source": [
    "#### Dataframe of percentage growth"
   ]
  },
  {
   "cell_type": "code",
   "execution_count": 18,
   "metadata": {},
   "outputs": [
    {
     "data": {
      "text/html": [
       "<div>\n",
       "<style scoped>\n",
       "    .dataframe tbody tr th:only-of-type {\n",
       "        vertical-align: middle;\n",
       "    }\n",
       "\n",
       "    .dataframe tbody tr th {\n",
       "        vertical-align: top;\n",
       "    }\n",
       "\n",
       "    .dataframe thead th {\n",
       "        text-align: right;\n",
       "    }\n",
       "</style>\n",
       "<table border=\"1\" class=\"dataframe\">\n",
       "  <thead>\n",
       "    <tr style=\"text-align: right;\">\n",
       "      <th></th>\n",
       "      <th>Ricoverati con sintomi</th>\n",
       "      <th>Terapia Intensiva</th>\n",
       "      <th>Isolamento Domiciliare</th>\n",
       "      <th>Dimessi Guariti</th>\n",
       "      <th>Deceduti</th>\n",
       "      <th>Tamponi</th>\n",
       "      <th>Totale Positivi</th>\n",
       "    </tr>\n",
       "  </thead>\n",
       "  <tbody>\n",
       "    <tr>\n",
       "      <td>23.02</td>\n",
       "      <td>NaN</td>\n",
       "      <td>NaN</td>\n",
       "      <td>NaN</td>\n",
       "      <td>NaN</td>\n",
       "      <td>NaN</td>\n",
       "      <td>NaN</td>\n",
       "      <td>NaN</td>\n",
       "    </tr>\n",
       "    <tr>\n",
       "      <td>24.02</td>\n",
       "      <td>87.04</td>\n",
       "      <td>3.85</td>\n",
       "      <td>327.27</td>\n",
       "      <td>0.00</td>\n",
       "      <td>200.00</td>\n",
       "      <td>NaN</td>\n",
       "      <td>77.52</td>\n",
       "    </tr>\n",
       "    <tr>\n",
       "      <td>25.02</td>\n",
       "      <td>12.87</td>\n",
       "      <td>29.63</td>\n",
       "      <td>72.34</td>\n",
       "      <td>0.00</td>\n",
       "      <td>66.67</td>\n",
       "      <td>NaN</td>\n",
       "      <td>40.61</td>\n",
       "    </tr>\n",
       "    <tr>\n",
       "      <td>26.02</td>\n",
       "      <td>12.28</td>\n",
       "      <td>2.86</td>\n",
       "      <td>36.42</td>\n",
       "      <td>200.00</td>\n",
       "      <td>20.00</td>\n",
       "      <td>NaN</td>\n",
       "      <td>24.22</td>\n",
       "    </tr>\n",
       "    <tr>\n",
       "      <td>27.02</td>\n",
       "      <td>93.75</td>\n",
       "      <td>55.56</td>\n",
       "      <td>28.51</td>\n",
       "      <td>1400.00</td>\n",
       "      <td>41.67</td>\n",
       "      <td>NaN</td>\n",
       "      <td>62.50</td>\n",
       "    </tr>\n",
       "    <tr>\n",
       "      <td>28.02</td>\n",
       "      <td>39.11</td>\n",
       "      <td>14.29</td>\n",
       "      <td>45.07</td>\n",
       "      <td>2.22</td>\n",
       "      <td>23.53</td>\n",
       "      <td>30.64</td>\n",
       "      <td>36.62</td>\n",
       "    </tr>\n",
       "    <tr>\n",
       "      <td>29.02</td>\n",
       "      <td>16.23</td>\n",
       "      <td>64.06</td>\n",
       "      <td>31.80</td>\n",
       "      <td>8.70</td>\n",
       "      <td>38.10</td>\n",
       "      <td>18.90</td>\n",
       "      <td>27.03</td>\n",
       "    </tr>\n",
       "    <tr>\n",
       "      <td>1.03</td>\n",
       "      <td>59.35</td>\n",
       "      <td>33.33</td>\n",
       "      <td>46.96</td>\n",
       "      <td>66.00</td>\n",
       "      <td>17.24</td>\n",
       "      <td>13.21</td>\n",
       "      <td>50.18</td>\n",
       "    </tr>\n",
       "  </tbody>\n",
       "</table>\n",
       "</div>"
      ],
      "text/plain": [
       "       Ricoverati con sintomi  Terapia Intensiva  Isolamento Domiciliare  Dimessi Guariti  Deceduti  Tamponi  Totale Positivi\n",
       "23.02                     NaN                NaN                     NaN              NaN       NaN      NaN              NaN\n",
       "24.02                   87.04               3.85                  327.27             0.00    200.00      NaN            77.52\n",
       "25.02                   12.87              29.63                   72.34             0.00     66.67      NaN            40.61\n",
       "26.02                   12.28               2.86                   36.42           200.00     20.00      NaN            24.22\n",
       "27.02                   93.75              55.56                   28.51          1400.00     41.67      NaN            62.50\n",
       "28.02                   39.11              14.29                   45.07             2.22     23.53    30.64            36.62\n",
       "29.02                   16.23              64.06                   31.80             8.70     38.10    18.90            27.03\n",
       "1.03                    59.35              33.33                   46.96            66.00     17.24    13.21            50.18"
      ]
     },
     "execution_count": 18,
     "metadata": {},
     "output_type": "execute_result"
    }
   ],
   "source": [
    "final_pct"
   ]
  },
  {
   "cell_type": "code",
   "execution_count": 19,
   "metadata": {},
   "outputs": [
    {
     "data": {
      "text/plain": [
       "'02-03-2020'"
      ]
     },
     "execution_count": 19,
     "metadata": {},
     "output_type": "execute_result"
    }
   ],
   "source": [
    "#Today's Datee\n",
    "d = datetime. datetime. today()\n",
    "today_string = d.strftime('%d-%m-%Y')\n",
    "today_string"
   ]
  },
  {
   "cell_type": "code",
   "execution_count": 20,
   "metadata": {},
   "outputs": [],
   "source": [
    "patients_plot =  summary_ext.drop(['Totale', 'Totale Positivi', \\\n",
    "                             'Tamponi', 'True Totale'], axis=1)\n"
   ]
  },
  {
   "cell_type": "code",
   "execution_count": 21,
   "metadata": {},
   "outputs": [
    {
     "data": {
      "text/html": [
       "<div>\n",
       "<style scoped>\n",
       "    .dataframe tbody tr th:only-of-type {\n",
       "        vertical-align: middle;\n",
       "    }\n",
       "\n",
       "    .dataframe tbody tr th {\n",
       "        vertical-align: top;\n",
       "    }\n",
       "\n",
       "    .dataframe thead th {\n",
       "        text-align: right;\n",
       "    }\n",
       "</style>\n",
       "<table border=\"1\" class=\"dataframe\">\n",
       "  <thead>\n",
       "    <tr style=\"text-align: right;\">\n",
       "      <th></th>\n",
       "      <th>Ricoverati con sintomi</th>\n",
       "      <th>Terapia Intensiva</th>\n",
       "      <th>Isolamento Domiciliare</th>\n",
       "      <th>Dimessi Guariti</th>\n",
       "      <th>Deceduti</th>\n",
       "    </tr>\n",
       "  </thead>\n",
       "  <tbody>\n",
       "    <tr>\n",
       "      <td>23.02</td>\n",
       "      <td>54.0</td>\n",
       "      <td>26.0</td>\n",
       "      <td>22.0</td>\n",
       "      <td>1.0</td>\n",
       "      <td>2.0</td>\n",
       "    </tr>\n",
       "    <tr>\n",
       "      <td>24.02</td>\n",
       "      <td>101.0</td>\n",
       "      <td>27.0</td>\n",
       "      <td>94.0</td>\n",
       "      <td>1.0</td>\n",
       "      <td>6.0</td>\n",
       "    </tr>\n",
       "    <tr>\n",
       "      <td>25.02</td>\n",
       "      <td>114.0</td>\n",
       "      <td>35.0</td>\n",
       "      <td>162.0</td>\n",
       "      <td>1.0</td>\n",
       "      <td>10.0</td>\n",
       "    </tr>\n",
       "    <tr>\n",
       "      <td>26.02</td>\n",
       "      <td>128.0</td>\n",
       "      <td>36.0</td>\n",
       "      <td>221.0</td>\n",
       "      <td>3.0</td>\n",
       "      <td>12.0</td>\n",
       "    </tr>\n",
       "    <tr>\n",
       "      <td>27.02</td>\n",
       "      <td>248.0</td>\n",
       "      <td>56.0</td>\n",
       "      <td>284.0</td>\n",
       "      <td>45.0</td>\n",
       "      <td>17.0</td>\n",
       "    </tr>\n",
       "    <tr>\n",
       "      <td>28.02</td>\n",
       "      <td>345.0</td>\n",
       "      <td>64.0</td>\n",
       "      <td>412.0</td>\n",
       "      <td>46.0</td>\n",
       "      <td>21.0</td>\n",
       "    </tr>\n",
       "    <tr>\n",
       "      <td>29.02</td>\n",
       "      <td>401.0</td>\n",
       "      <td>105.0</td>\n",
       "      <td>543.0</td>\n",
       "      <td>50.0</td>\n",
       "      <td>29.0</td>\n",
       "    </tr>\n",
       "    <tr>\n",
       "      <td>1.03</td>\n",
       "      <td>639.0</td>\n",
       "      <td>140.0</td>\n",
       "      <td>798.0</td>\n",
       "      <td>83.0</td>\n",
       "      <td>34.0</td>\n",
       "    </tr>\n",
       "  </tbody>\n",
       "</table>\n",
       "</div>"
      ],
      "text/plain": [
       "       Ricoverati con sintomi  Terapia Intensiva  Isolamento Domiciliare  Dimessi Guariti  Deceduti\n",
       "23.02                    54.0               26.0                    22.0              1.0       2.0\n",
       "24.02                   101.0               27.0                    94.0              1.0       6.0\n",
       "25.02                   114.0               35.0                   162.0              1.0      10.0\n",
       "26.02                   128.0               36.0                   221.0              3.0      12.0\n",
       "27.02                   248.0               56.0                   284.0             45.0      17.0\n",
       "28.02                   345.0               64.0                   412.0             46.0      21.0\n",
       "29.02                   401.0              105.0                   543.0             50.0      29.0\n",
       "1.03                    639.0              140.0                   798.0             83.0      34.0"
      ]
     },
     "execution_count": 21,
     "metadata": {},
     "output_type": "execute_result"
    }
   ],
   "source": [
    "patients_plot"
   ]
  },
  {
   "cell_type": "markdown",
   "metadata": {},
   "source": [
    "#### Plotting the patient conditions"
   ]
  },
  {
   "cell_type": "code",
   "execution_count": 22,
   "metadata": {},
   "outputs": [],
   "source": [
    "#Changing the index into actual dates\n",
    "#summary_plot.index = [datetime.datetime.strptime(d+'.2020', '%d.%m.%Y').date() for d in summary_plot.index]"
   ]
  },
  {
   "cell_type": "code",
   "execution_count": 23,
   "metadata": {},
   "outputs": [],
   "source": [
    "patients_plot_eng = patients_plot.copy()"
   ]
  },
  {
   "cell_type": "code",
   "execution_count": 24,
   "metadata": {},
   "outputs": [],
   "source": [
    "patients_plot_eng.columns = ['Hospitalized with Symptoms', \\\n",
    "                           'Hospitalized in ICU',\\\n",
    "                           'Home Quaratine',\\\n",
    "                           'Dimissed',\\\n",
    "                            \"Deceased\"]\n",
    "                            "
   ]
  },
  {
   "cell_type": "code",
   "execution_count": 25,
   "metadata": {},
   "outputs": [
    {
     "data": {
      "image/png": "[encoded data removed]",
      "text/plain": [
       "<Figure size 1152x648 with 1 Axes>"
      ]
     },
     "metadata": {
      "needs_background": "light"
     },
     "output_type": "display_data"
    }
   ],
   "source": [
    "plt.rcParams.update({'font.size': 22})\n",
    "plt.rcParams[\"figure.figsize\"] = [16,9]\n",
    "plt.rc('xtick',labelsize=14, )\n",
    "plt.rc('ytick',labelsize=14)\n",
    "\n",
    "ax = patients_plot_eng.plot.bar(stacked=True,color=['orange', 'red', 'blue', 'green', 'black'], alpha =0.7,\\\n",
    "                      title = \"Summary of patient conditions\")\n",
    "ax.set_ylabel(\"People\", fontname=\"Arial\", fontsize=20)\n",
    "ax.set_xlabel(\"Date\", fontname=\"Arial\", fontsize=20)\n",
    "ax.legend(loc=2, prop={'size': 20})\n",
    "ax.set_title(\"COVID-19 Positive Patients status daily. Updated on \" + today_string,\\\n",
    "             fontname='Arial', fontsize=20)\n",
    "plt.xticks(rotation=45)\n",
    "plt.savefig('../plots/positive_patients_'+today_string+'_eng.png')\n"
   ]
  },
  {
   "cell_type": "code",
   "execution_count": 26,
   "metadata": {},
   "outputs": [
    {
     "data": {
      "image/png": "[encoded data removed]",
      "text/plain": [
       "<Figure size 1152x648 with 1 Axes>"
      ]
     },
     "metadata": {
      "needs_background": "light"
     },
     "output_type": "display_data"
    }
   ],
   "source": [
    "plt.rcParams.update({'font.size': 22})\n",
    "plt.rcParams[\"figure.figsize\"] = [16,9]\n",
    "plt.rc('xtick',labelsize=14, )\n",
    "plt.rc('ytick',labelsize=14)\n",
    "\n",
    "ax = patients_plot.plot.bar(stacked=True,color=['orange', 'red', 'blue', 'green', 'black'], alpha =0.7,\\\n",
    "                      title = \"Summary of patient conditions\")\n",
    "ax.set_ylabel(\"Persone\", fontname=\"Arial\", fontsize=20)\n",
    "ax.set_xlabel(\"Data\", fontname=\"Arial\", fontsize=20)\n",
    "ax.legend(loc=2, prop={'size': 20})\n",
    "ax.set_title(\"Stato Giornaliero Pazienti positivi a COVID-19 Aggiornato al \" + today_string,\\\n",
    "             fontname='Arial', fontsize=20)\n",
    "plt.xticks(rotation=45)\n",
    "plt.savefig('../plots/positive_patients_'+today_string+'_ita.png')\n"
   ]
  },
  {
   "cell_type": "code",
   "execution_count": 27,
   "metadata": {},
   "outputs": [
    {
     "data": {
      "text/html": [
       "<div>\n",
       "<style scoped>\n",
       "    .dataframe tbody tr th:only-of-type {\n",
       "        vertical-align: middle;\n",
       "    }\n",
       "\n",
       "    .dataframe tbody tr th {\n",
       "        vertical-align: top;\n",
       "    }\n",
       "\n",
       "    .dataframe thead th {\n",
       "        text-align: right;\n",
       "    }\n",
       "</style>\n",
       "<table border=\"1\" class=\"dataframe\">\n",
       "  <thead>\n",
       "    <tr style=\"text-align: right;\">\n",
       "      <th></th>\n",
       "      <th>Ricoverati con sintomi</th>\n",
       "      <th>Terapia Intensiva</th>\n",
       "      <th>Isolamento Domiciliare</th>\n",
       "      <th>Totale</th>\n",
       "      <th>Dimessi Guariti</th>\n",
       "      <th>Deceduti</th>\n",
       "      <th>Totale Positivi</th>\n",
       "      <th>Tamponi</th>\n",
       "      <th>True Totale</th>\n",
       "    </tr>\n",
       "  </thead>\n",
       "  <tbody>\n",
       "    <tr>\n",
       "      <td>23.02</td>\n",
       "      <td>54.0</td>\n",
       "      <td>26.0</td>\n",
       "      <td>22.0</td>\n",
       "      <td>129.0</td>\n",
       "      <td>1.0</td>\n",
       "      <td>2.0</td>\n",
       "      <td>NaN</td>\n",
       "      <td>NaN</td>\n",
       "      <td>129.0</td>\n",
       "    </tr>\n",
       "    <tr>\n",
       "      <td>24.02</td>\n",
       "      <td>101.0</td>\n",
       "      <td>27.0</td>\n",
       "      <td>94.0</td>\n",
       "      <td>229.0</td>\n",
       "      <td>1.0</td>\n",
       "      <td>6.0</td>\n",
       "      <td>NaN</td>\n",
       "      <td>NaN</td>\n",
       "      <td>229.0</td>\n",
       "    </tr>\n",
       "    <tr>\n",
       "      <td>25.02</td>\n",
       "      <td>114.0</td>\n",
       "      <td>35.0</td>\n",
       "      <td>162.0</td>\n",
       "      <td>322.0</td>\n",
       "      <td>1.0</td>\n",
       "      <td>10.0</td>\n",
       "      <td>NaN</td>\n",
       "      <td>NaN</td>\n",
       "      <td>322.0</td>\n",
       "    </tr>\n",
       "    <tr>\n",
       "      <td>26.02</td>\n",
       "      <td>128.0</td>\n",
       "      <td>36.0</td>\n",
       "      <td>221.0</td>\n",
       "      <td>400.0</td>\n",
       "      <td>3.0</td>\n",
       "      <td>12.0</td>\n",
       "      <td>NaN</td>\n",
       "      <td>NaN</td>\n",
       "      <td>400.0</td>\n",
       "    </tr>\n",
       "    <tr>\n",
       "      <td>27.02</td>\n",
       "      <td>248.0</td>\n",
       "      <td>56.0</td>\n",
       "      <td>284.0</td>\n",
       "      <td>588.0</td>\n",
       "      <td>45.0</td>\n",
       "      <td>17.0</td>\n",
       "      <td>650.0</td>\n",
       "      <td>12014.0</td>\n",
       "      <td>650.0</td>\n",
       "    </tr>\n",
       "    <tr>\n",
       "      <td>28.02</td>\n",
       "      <td>345.0</td>\n",
       "      <td>64.0</td>\n",
       "      <td>412.0</td>\n",
       "      <td>821.0</td>\n",
       "      <td>46.0</td>\n",
       "      <td>21.0</td>\n",
       "      <td>888.0</td>\n",
       "      <td>15695.0</td>\n",
       "      <td>888.0</td>\n",
       "    </tr>\n",
       "    <tr>\n",
       "      <td>29.02</td>\n",
       "      <td>401.0</td>\n",
       "      <td>105.0</td>\n",
       "      <td>543.0</td>\n",
       "      <td>1049.0</td>\n",
       "      <td>50.0</td>\n",
       "      <td>29.0</td>\n",
       "      <td>1128.0</td>\n",
       "      <td>18661.0</td>\n",
       "      <td>1128.0</td>\n",
       "    </tr>\n",
       "    <tr>\n",
       "      <td>1.03</td>\n",
       "      <td>639.0</td>\n",
       "      <td>140.0</td>\n",
       "      <td>798.0</td>\n",
       "      <td>1577.0</td>\n",
       "      <td>83.0</td>\n",
       "      <td>34.0</td>\n",
       "      <td>1694.0</td>\n",
       "      <td>21127.0</td>\n",
       "      <td>1694.0</td>\n",
       "    </tr>\n",
       "  </tbody>\n",
       "</table>\n",
       "</div>"
      ],
      "text/plain": [
       "       Ricoverati con sintomi  Terapia Intensiva  Isolamento Domiciliare  Totale  Dimessi Guariti  Deceduti  Totale Positivi  Tamponi  True Totale\n",
       "23.02                    54.0               26.0                    22.0   129.0              1.0       2.0              NaN      NaN        129.0\n",
       "24.02                   101.0               27.0                    94.0   229.0              1.0       6.0              NaN      NaN        229.0\n",
       "25.02                   114.0               35.0                   162.0   322.0              1.0      10.0              NaN      NaN        322.0\n",
       "26.02                   128.0               36.0                   221.0   400.0              3.0      12.0              NaN      NaN        400.0\n",
       "27.02                   248.0               56.0                   284.0   588.0             45.0      17.0            650.0  12014.0        650.0\n",
       "28.02                   345.0               64.0                   412.0   821.0             46.0      21.0            888.0  15695.0        888.0\n",
       "29.02                   401.0              105.0                   543.0  1049.0             50.0      29.0           1128.0  18661.0       1128.0\n",
       "1.03                    639.0              140.0                   798.0  1577.0             83.0      34.0           1694.0  21127.0       1694.0"
      ]
     },
     "execution_count": 27,
     "metadata": {},
     "output_type": "execute_result"
    }
   ],
   "source": [
    "summary_ext"
   ]
  },
  {
   "cell_type": "code",
   "execution_count": 44,
   "metadata": {},
   "outputs": [],
   "source": [
    "# Here I want to plot the percentage of ICU hospitalized over the total postive over time\n",
    "ICU_perc = summary_ext.drop(['Totale', 'Totale Positivi', 'Tamponi'], axis=1)"
   ]
  },
  {
   "cell_type": "code",
   "execution_count": 45,
   "metadata": {},
   "outputs": [],
   "source": [
    "ICU_perc['Alive_and_sick'] = ICU_perc['Terapia Intensiva']+\\\n",
    "ICU_perc['Ricoverati con sintomi']+ICU_perc['Isolamento Domiciliare']"
   ]
  },
  {
   "cell_type": "code",
   "execution_count": 51,
   "metadata": {},
   "outputs": [],
   "source": [
    "ICU_perc['Percentage of Postivie and Alive patients in ICU'] = \\\n",
    "ICU_perc['Terapia Intensiva']/(ICU_perc['Alive_and_sick'])*100"
   ]
  },
  {
   "cell_type": "code",
   "execution_count": 55,
   "metadata": {},
   "outputs": [],
   "source": [
    "ICU_perc['Data'] = ICU_perc.index\n",
    "ICU_perc['Average'] =  ICU_perc['Percentage of Postivie and Alive patients in ICU'].mean()"
   ]
  },
  {
   "cell_type": "code",
   "execution_count": 67,
   "metadata": {},
   "outputs": [
    {
     "data": {
      "image/png": "[encoded data removed]",
      "text/plain": [
       "<Figure size 1152x648 with 1 Axes>"
      ]
     },
     "metadata": {
      "needs_background": "light"
     },
     "output_type": "display_data"
    }
   ],
   "source": [
    "plt.rcParams.update({'font.size': 22})\n",
    "plt.rcParams[\"figure.figsize\"] = [16,9]\n",
    "plt.rc('xtick',labelsize=14, )\n",
    "plt.rc('ytick',labelsize=14)\n",
    "#ax = sns.lineplot(x=\"Data\", y=\"ICU_perc\", data=ICU_perc)\n",
    "ax = ICU_perc.plot(x='Data',y=['Percentage of Postivie and Alive patients in ICU', 'Average'])\n",
    "ax.set_ylabel(\"Percentage\", fontname=\"Arial\", fontsize=20)\n",
    "ax.set_xlabel(\"Date\", fontname=\"Arial\", fontsize=20)\n",
    "ax.legend(loc=1, prop={'size': 20})\n",
    "ax.set_title(\"Percenage of ICU among all the alive COVID-19 postivie patients Updated at \" + today_string,\\\n",
    "             fontname='Arial', fontsize=20)\n",
    "plt.xticks(rotation=45)\n",
    "plt.savefig('../plots/ICU_percentage_'+today_string+'_ita.png')"
   ]
  },
  {
   "cell_type": "code",
   "execution_count": null,
   "metadata": {},
   "outputs": [],
   "source": []
  }
 ],
 "metadata": {
  "kernelspec": {
   "display_name": "Python 3",
   "language": "python",
   "name": "python3"
  },
  "language_info": {
   "codemirror_mode": {
    "name": "ipython",
    "version": 3
   },
   "file_extension": ".py",
   "mimetype": "text/x-python",
   "name": "python",
   "nbconvert_exporter": "python",
   "pygments_lexer": "ipython3",
   "version": "3.7.4"
  }
 },
 "nbformat": 4,
 "nbformat_minor": 2
}
